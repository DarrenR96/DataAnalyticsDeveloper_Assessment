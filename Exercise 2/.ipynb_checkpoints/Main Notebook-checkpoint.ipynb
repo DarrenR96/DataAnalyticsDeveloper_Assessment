{
 "cells": [
  {
   "cell_type": "markdown",
   "metadata": {},
   "source": [
    "# Credict Book Valuation Analysis\n",
    "\n",
    "## Exercise 2\n",
    "\n",
    "#### Done by: Darren Ramsook, Date: 6th Nov., 2019\n",
    "\n",
    "Works on Python3.6 and above"
   ]
  },
  {
   "cell_type": "code",
   "execution_count": null,
   "metadata": {
    "collapsed": true
   },
   "outputs": [],
   "source": [
    "# Libraries used for this task:\n",
    "import pandas as pd #Pandas for Data Manipulation\n",
    "import seaborn as sns #Seaborn for Data Plotting\n",
    "import matplotlib.pyplot as plt #Matplotlib for graphics rendering\n",
    "from sklearn.preprocessing import OrdinalEncoder #Encoding categorical variables\n",
    "from sklearn.model_selection import train_test_split # Splitting dataset\n",
    "from sklearn.linear_model import SGDClassifier #ML Algorithm\n",
    "from sklearn.metrics import accuracy_score #Accuracy Measure\n",
    "from sklearn.metrics import f1_score\n",
    "import numpy as np #Computing Library"
   ]
  },
  {
   "cell_type": "markdown",
   "metadata": {},
   "source": [
    "The data credit book valuation data is located in the \"Data/\" directory. This data can be loaded and the top 10 rows examined further, and the column data and their interpreted data types can be list:"
   ]
  },
  {
   "cell_type": "code",
   "execution_count": null,
   "metadata": {},
   "outputs": [],
   "source": [
    "creditBookDF = pd.read_csv(\"Data/exercise2_data.csv\")\n",
    "print(\"Column Titles and Datatypes:\\n\"+str(creditBookDF.dtypes))\n",
    "print(\"\\n\\nTop 10 rows of data:\\n\")\n",
    "creditBookDF.head(10)"
   ]
  },
  {
   "cell_type": "markdown",
   "metadata": {},
   "source": [
    "### Initial Observation\n",
    "\n",
    "From initial observation we can note the data has the following columns: \n",
    "* account_no (categorical), \n",
    "* gender (categorical), \n",
    "* age (numerical-continuous), \n",
    "* income (numerical-continuous), \n",
    "* term (numerical-continuous), \n",
    "* installment_amount (numerical-continuous), \n",
    "* interest_rate (numerical-continuous), \n",
    "* credit_score_at_application (numerical-continuous), \n",
    "* outstanding_balance(numerical-continuous) and \n",
    "* status (categorical).\n",
    "\n",
    "Using this data we can now determine relationships using visual methods."
   ]
  },
  {
   "cell_type": "markdown",
   "metadata": {},
   "source": [
    "We can analyze the data further by looking at a pairplot between all the variables and having a general idea of their relationship and their histogram by producing a pair-wise plot across all variables."
   ]
  },
  {
   "cell_type": "code",
   "execution_count": null,
   "metadata": {},
   "outputs": [],
   "source": [
    "pairplotCreditDF = sns.pairplot(creditBookDF)\n",
    "plt.show()"
   ]
  },
  {
   "cell_type": "markdown",
   "metadata": {},
   "source": [
    "From the pairplot, we can see some interesting trends, for example (and most notable) that the relationship between credit_score_at_application and interest_rate follows something resembling an **INVERSE SIGMOID** relationship.\n",
    "\n",
    "Also the term variable is bunched together at regular intervals when related to all other variables. This indicates that the term may actually be categorical instead of a continuous number as once thought.\n",
    "\n",
    "Also the distribution of variables can be seen from the self interseciton points. For example age, income, loan_amount and installment_amount seems as it follows a **GAMMA DISTRIBUTION**, while interest rate follows a **NORMAL DISTRIBUTION**.\n",
    "\n",
    "The color palette and indiscrimination between data points makes it a bit hard to actually visualize the data. This can be changed via the following."
   ]
  },
  {
   "cell_type": "code",
   "execution_count": null,
   "metadata": {},
   "outputs": [],
   "source": [
    "pairplotCDFCategory = sns.pairplot(creditBookDF, hue=\"status\")\n",
    "plt.show()\n",
    "\n",
    "# Warning will show if on python 3.6, ignore "
   ]
  },
  {
   "cell_type": "markdown",
   "metadata": {},
   "source": [
    "Various decision boundaries on pairwise variables can be seen and separated from visual inspection, such as credit_score_at_application and interest_rate.\n",
    "\n",
    "\n",
    "To get a better idea of the distributions we can perform **Kernel Density Estimation** on the data and also try to fit linear relationships between the data. This is done as shown below:"
   ]
  },
  {
   "cell_type": "code",
   "execution_count": null,
   "metadata": {},
   "outputs": [],
   "source": [
    "pairplotCDFCatKDE = sns.pairplot(creditBookDF, hue=\"status\", kind = \"reg\",diag_kind=\"kde\")\n",
    "plt.show()\n",
    "\n",
    "# Warning will show if on python 3.6, ignore \n",
    "# This will take some time to run as it is running KDE as well as fitting a linear reg on all variables"
   ]
  },
  {
   "cell_type": "markdown",
   "metadata": {},
   "source": [
    "The relationship between some variables are a bit complex, however we can still model non-linear relationships using other methods.\n",
    "\n",
    "\n",
    "## Modelling Using Probabilistic Methods\n",
    "\n",
    "The data is first split into historical and current data. The categorical data is encoded at this stage to save computation time.\n",
    "\n",
    "The problem requires to find the probability that someone defaults, in this case, we can group \"PAID_UP\" and \"LIVE\" into one category."
   ]
  },
  {
   "cell_type": "code",
   "execution_count": null,
   "metadata": {},
   "outputs": [],
   "source": [
    "creditBookMLDF = creditBookDF.copy()\n",
    "\n",
    "historicalDF = creditBookMLDF[creditBookMLDF['status'] != \"LIVE\"]\n",
    "currentDF = creditBookMLDF[creditBookMLDF['status'] == \"LIVE\"]\n",
    "creditBookMLDF['status'] = creditBookMLDF['status'].replace({'PAID_UP': 'X', 'LIVE': 'X'})\n",
    "\n",
    "print(\"Dimensions of Data:\")\n",
    "print(\"Historical DataFrame: (#rows:\"+str(historicalDF.shape[0])+\" , #columns: \"+str(historicalDF.shape[1])+\")\")\n",
    "print(\"Current DataFrame: (#rows:\"+str(currentDF.shape[0])+\" , #columns: \"+str(currentDF.shape[1])+\")\")"
   ]
  },
  {
   "cell_type": "markdown",
   "metadata": {},
   "source": [
    "From this information, we can determine the following split for the data:\n",
    "* 80% of the Historical Data would be utilized for training\n",
    "* The remaining 20% of the Historical Data would be used as a test set\n",
    "\n",
    "The only categorical data used will be the \"gender\" field and the output status field.\n",
    "\n",
    "Preparing the data:"
   ]
  },
  {
   "cell_type": "code",
   "execution_count": null,
   "metadata": {},
   "outputs": [],
   "source": [
    "historicalDF['status'] = historicalDF['status'].replace({'PAID_UP': 'X', 'LIVE': 'X'})\n",
    "currentDF['status'] = currentDF['status'].replace({'PAID_UP': 'X', 'LIVE': 'X'})\n",
    "\n",
    "# Create and fit Encoders\n",
    "genEncoder = OrdinalEncoder()\n",
    "statusEncoder = OrdinalEncoder()\n",
    "genEncoder = genEncoder.fit(creditBookMLDF.gender.values.reshape(-1,1))\n",
    "statusEncoder = statusEncoder.fit(creditBookMLDF.status.values.reshape(-1,1))\n",
    "\n",
    "# Transform Data\n",
    "historicalDF['status'] = statusEncoder.transform(historicalDF.status.values.reshape(-1,1))\n",
    "historicalDF['gender'] = genEncoder.transform(historicalDF.gender.values.reshape(-1,1))\n",
    "\n",
    "# Splitting encoded data into train test sets now\n",
    "trainDFX = historicalDF.drop(['outstanding_balance','account_no','status'],axis=1)\n",
    "trainDFY = historicalDF['status']\n",
    "X_train, X_test, y_train, y_test = train_test_split(trainDFX,trainDFY,test_size = 0.2,random_state=1)"
   ]
  },
  {
   "cell_type": "markdown",
   "metadata": {},
   "source": [
    "### Using a Probabilistic model to create predicitons\n",
    "\n",
    "Logistic Regression Classifier was trained using the l2 loss results in a probability between 0-1 of the output."
   ]
  },
  {
   "cell_type": "code",
   "execution_count": null,
   "metadata": {},
   "outputs": [],
   "source": [
    "from sklearn.linear_model import LogisticRegression\n",
    "\n",
    "lf = LogisticRegression(penalty ='l2', tol=1e-4,solver='lbfgs').fit(X_train, y_train)\n",
    "y_pred_actual = lf.predict(X_test)\n",
    "y_pred_probability = lf.predict_proba(X_test)\n",
    "\n",
    "print(\"mean accuracy on the given test data and labels: \" + str(lf.score(X_train, y_train)))\n",
    "print(\"F1 score: \" + str(f1_score(y_test, y_pred_actual)))\n",
    "print(\"Overall accuracy: \" + str(accuracy_score(y_test, y_pred_actual)))"
   ]
  },
  {
   "cell_type": "markdown",
   "metadata": {},
   "source": [
    "### Forecasting for remainder of data\n",
    "\n"
   ]
  },
  {
   "cell_type": "code",
   "execution_count": null,
   "metadata": {},
   "outputs": [],
   "source": [
    "lfInputs = currentDF.drop(['outstanding_balance','account_no','status'],axis=1)\n",
    "lfInputs['gender'] = genEncoder.transform(lfInputs.gender.values.reshape(-1,1))\n",
    "currentDF['DefaultProb'] = ''\n",
    "currentDF['DefaultProb'] = lf.predict_proba(lfInputs)"
   ]
  },
  {
   "cell_type": "markdown",
   "metadata": {},
   "source": [
    "### Expected Repayment amount for Loan"
   ]
  },
  {
   "cell_type": "code",
   "execution_count": null,
   "metadata": {},
   "outputs": [],
   "source": [
    "currentDF['ExpectedRepay'] = ''\n",
    "currentDF['ExpectedRepay'] = (1 - currentDF['DefaultProb'])*currentDF['outstanding_balance']"
   ]
  },
  {
   "cell_type": "code",
   "execution_count": null,
   "metadata": {},
   "outputs": [],
   "source": [
    "print(\"Total Expected Sum: \" + str(currentDF['ExpectedRepay'].sum()))\n",
    "\n",
    "ExpectedRepaySum = currentDF['ExpectedRepay'].sum()\n",
    "OutstandingBalanceSum = currentDF['outstanding_balance'].sum()\n",
    "ratio = ExpectedRepaySum/OutstandingBalanceSum\n",
    "\n",
    "paidUpcount = creditBookDF[creditBookDF['status'] == 'PAID_UP'].shape[0]\n",
    "defaultcount = creditBookDF[creditBookDF['status'] == 'DEFAULT'].shape[0]\n",
    "countRatio = paidUpcount/defaultcount\n",
    "print(\"Ratio of Expected Sum to Outstanding Balance Sum: \" + str(ratio))\n",
    "print(\"Ratio of PAID_UP to DEFAULT loans: \"+str(countRatio))"
   ]
  }
 ],
 "metadata": {
  "kernelspec": {
   "display_name": "Python 3",
   "language": "python",
   "name": "python3"
  },
  "language_info": {
   "codemirror_mode": {
    "name": "ipython",
    "version": 3
   },
   "file_extension": ".py",
   "mimetype": "text/x-python",
   "name": "python",
   "nbconvert_exporter": "python",
   "pygments_lexer": "ipython3",
   "version": "3.6.8"
  }
 },
 "nbformat": 4,
 "nbformat_minor": 2
}
