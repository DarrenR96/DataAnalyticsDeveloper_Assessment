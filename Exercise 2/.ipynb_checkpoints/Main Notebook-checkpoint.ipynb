{
 "cells": [
  {
   "cell_type": "markdown",
   "metadata": {},
   "source": [
    "# Credict Book Valuation Analysis\n",
    "\n",
    "## Exercise 2\n",
    "\n",
    "#### Done by: Darren Ramsook, Date: 6th Nov., 2019\n"
   ]
  },
  {
   "cell_type": "code",
   "execution_count": 8,
   "metadata": {
    "collapsed": true
   },
   "outputs": [],
   "source": [
    "# Libraries used for this task:\n",
    "import pandas as pd #Pandas for Data Manipulation\n",
    "import seaborn as sns #Seaborn for Data Plotting\n",
    "import matplotlib.pyplot as plt #Matplotlib for graphics rendering\n",
    "from sklearn.preprocessing import OrdinalEncoder #Encoding categorical variables\n",
    "from sklearn.model_selection import train_test_split # Splitting dataset\n",
    "from sklearn.linear_model import SGDClassifier #ML Algorithm\n",
    "from sklearn.metrics import accuracy_score #Accuracy Measure\n",
    "from sklearn.metrics import f1_score\n",
    "import numpy as np #Computing Library"
   ]
  },
  {
   "cell_type": "markdown",
   "metadata": {},
   "source": [
    "The data credit book valuation data is located in the \"Data/\" directory. This data can be loaded and the top 10 rows examined further, and the column data and their interpreted data types can be list:"
   ]
  },
  {
   "cell_type": "code",
   "execution_count": 3,
   "metadata": {},
   "outputs": [
    {
     "name": "stdout",
     "output_type": "stream",
     "text": [
      "Column Titles and Datatypes:\n",
      "account_no                      object\n",
      "gender                          object\n",
      "age                              int64\n",
      "income                           int64\n",
      "loan_amount                      int64\n",
      "term                             int64\n",
      "installment_amount               int64\n",
      "interest_rate                  float64\n",
      "credit_score_at_application      int64\n",
      "outstanding_balance              int64\n",
      "status                          object\n",
      "dtype: object\n",
      "\n",
      "\n",
      "Top 10 rows of data:\n",
      "\n"
     ]
    },
    {
     "data": {
      "text/html": [
       "<div>\n",
       "<style scoped>\n",
       "    .dataframe tbody tr th:only-of-type {\n",
       "        vertical-align: middle;\n",
       "    }\n",
       "\n",
       "    .dataframe tbody tr th {\n",
       "        vertical-align: top;\n",
       "    }\n",
       "\n",
       "    .dataframe thead th {\n",
       "        text-align: right;\n",
       "    }\n",
       "</style>\n",
       "<table border=\"1\" class=\"dataframe\">\n",
       "  <thead>\n",
       "    <tr style=\"text-align: right;\">\n",
       "      <th></th>\n",
       "      <th>account_no</th>\n",
       "      <th>gender</th>\n",
       "      <th>age</th>\n",
       "      <th>income</th>\n",
       "      <th>loan_amount</th>\n",
       "      <th>term</th>\n",
       "      <th>installment_amount</th>\n",
       "      <th>interest_rate</th>\n",
       "      <th>credit_score_at_application</th>\n",
       "      <th>outstanding_balance</th>\n",
       "      <th>status</th>\n",
       "    </tr>\n",
       "  </thead>\n",
       "  <tbody>\n",
       "    <tr>\n",
       "      <th>0</th>\n",
       "      <td>acc_00000316</td>\n",
       "      <td>F</td>\n",
       "      <td>18</td>\n",
       "      <td>12143</td>\n",
       "      <td>47000</td>\n",
       "      <td>60</td>\n",
       "      <td>1045</td>\n",
       "      <td>0.12</td>\n",
       "      <td>860</td>\n",
       "      <td>0</td>\n",
       "      <td>PAID_UP</td>\n",
       "    </tr>\n",
       "    <tr>\n",
       "      <th>1</th>\n",
       "      <td>acc_00000422</td>\n",
       "      <td>F</td>\n",
       "      <td>18</td>\n",
       "      <td>6021</td>\n",
       "      <td>13000</td>\n",
       "      <td>60</td>\n",
       "      <td>330</td>\n",
       "      <td>0.18</td>\n",
       "      <td>640</td>\n",
       "      <td>0</td>\n",
       "      <td>PAID_UP</td>\n",
       "    </tr>\n",
       "    <tr>\n",
       "      <th>2</th>\n",
       "      <td>acc_00001373</td>\n",
       "      <td>F</td>\n",
       "      <td>39</td>\n",
       "      <td>12832</td>\n",
       "      <td>13000</td>\n",
       "      <td>60</td>\n",
       "      <td>296</td>\n",
       "      <td>0.13</td>\n",
       "      <td>820</td>\n",
       "      <td>0</td>\n",
       "      <td>PAID_UP</td>\n",
       "    </tr>\n",
       "    <tr>\n",
       "      <th>3</th>\n",
       "      <td>acc_00001686</td>\n",
       "      <td>F</td>\n",
       "      <td>33</td>\n",
       "      <td>4867</td>\n",
       "      <td>5000</td>\n",
       "      <td>36</td>\n",
       "      <td>191</td>\n",
       "      <td>0.22</td>\n",
       "      <td>540</td>\n",
       "      <td>0</td>\n",
       "      <td>PAID_UP</td>\n",
       "    </tr>\n",
       "    <tr>\n",
       "      <th>4</th>\n",
       "      <td>acc_00001733</td>\n",
       "      <td>F</td>\n",
       "      <td>23</td>\n",
       "      <td>5107</td>\n",
       "      <td>22000</td>\n",
       "      <td>36</td>\n",
       "      <td>818</td>\n",
       "      <td>0.20</td>\n",
       "      <td>580</td>\n",
       "      <td>11314</td>\n",
       "      <td>LIVE</td>\n",
       "    </tr>\n",
       "    <tr>\n",
       "      <th>5</th>\n",
       "      <td>acc_00002114</td>\n",
       "      <td>M</td>\n",
       "      <td>38</td>\n",
       "      <td>9328</td>\n",
       "      <td>25000</td>\n",
       "      <td>36</td>\n",
       "      <td>904</td>\n",
       "      <td>0.18</td>\n",
       "      <td>630</td>\n",
       "      <td>0</td>\n",
       "      <td>PAID_UP</td>\n",
       "    </tr>\n",
       "    <tr>\n",
       "      <th>6</th>\n",
       "      <td>acc_00002270</td>\n",
       "      <td>F</td>\n",
       "      <td>18</td>\n",
       "      <td>5763</td>\n",
       "      <td>15000</td>\n",
       "      <td>60</td>\n",
       "      <td>381</td>\n",
       "      <td>0.18</td>\n",
       "      <td>630</td>\n",
       "      <td>0</td>\n",
       "      <td>PAID_UP</td>\n",
       "    </tr>\n",
       "    <tr>\n",
       "      <th>7</th>\n",
       "      <td>acc_00002927</td>\n",
       "      <td>M</td>\n",
       "      <td>42</td>\n",
       "      <td>12762</td>\n",
       "      <td>24000</td>\n",
       "      <td>48</td>\n",
       "      <td>668</td>\n",
       "      <td>0.15</td>\n",
       "      <td>730</td>\n",
       "      <td>0</td>\n",
       "      <td>PAID_UP</td>\n",
       "    </tr>\n",
       "    <tr>\n",
       "      <th>8</th>\n",
       "      <td>acc_00003222</td>\n",
       "      <td>M</td>\n",
       "      <td>43</td>\n",
       "      <td>6718</td>\n",
       "      <td>16000</td>\n",
       "      <td>48</td>\n",
       "      <td>522</td>\n",
       "      <td>0.24</td>\n",
       "      <td>520</td>\n",
       "      <td>2923</td>\n",
       "      <td>DEFAULT</td>\n",
       "    </tr>\n",
       "    <tr>\n",
       "      <th>9</th>\n",
       "      <td>acc_00006967</td>\n",
       "      <td>F</td>\n",
       "      <td>38</td>\n",
       "      <td>9662</td>\n",
       "      <td>17000</td>\n",
       "      <td>48</td>\n",
       "      <td>482</td>\n",
       "      <td>0.16</td>\n",
       "      <td>720</td>\n",
       "      <td>0</td>\n",
       "      <td>PAID_UP</td>\n",
       "    </tr>\n",
       "  </tbody>\n",
       "</table>\n",
       "</div>"
      ],
      "text/plain": [
       "     account_no gender  age  income  loan_amount  term  installment_amount  \\\n",
       "0  acc_00000316      F   18   12143        47000    60                1045   \n",
       "1  acc_00000422      F   18    6021        13000    60                 330   \n",
       "2  acc_00001373      F   39   12832        13000    60                 296   \n",
       "3  acc_00001686      F   33    4867         5000    36                 191   \n",
       "4  acc_00001733      F   23    5107        22000    36                 818   \n",
       "5  acc_00002114      M   38    9328        25000    36                 904   \n",
       "6  acc_00002270      F   18    5763        15000    60                 381   \n",
       "7  acc_00002927      M   42   12762        24000    48                 668   \n",
       "8  acc_00003222      M   43    6718        16000    48                 522   \n",
       "9  acc_00006967      F   38    9662        17000    48                 482   \n",
       "\n",
       "   interest_rate  credit_score_at_application  outstanding_balance   status  \n",
       "0           0.12                          860                    0  PAID_UP  \n",
       "1           0.18                          640                    0  PAID_UP  \n",
       "2           0.13                          820                    0  PAID_UP  \n",
       "3           0.22                          540                    0  PAID_UP  \n",
       "4           0.20                          580                11314     LIVE  \n",
       "5           0.18                          630                    0  PAID_UP  \n",
       "6           0.18                          630                    0  PAID_UP  \n",
       "7           0.15                          730                    0  PAID_UP  \n",
       "8           0.24                          520                 2923  DEFAULT  \n",
       "9           0.16                          720                    0  PAID_UP  "
      ]
     },
     "execution_count": 3,
     "metadata": {},
     "output_type": "execute_result"
    }
   ],
   "source": [
    "creditBookDF = pd.read_csv(\"Data/exercise2_data.csv\")\n",
    "print(\"Column Titles and Datatypes:\\n\"+str(creditBookDF.dtypes))\n",
    "print(\"\\n\\nTop 10 rows of data:\\n\")\n",
    "creditBookDF.head(10)"
   ]
  },
  {
   "cell_type": "markdown",
   "metadata": {},
   "source": [
    "### Initial Observation\n",
    "\n",
    "From initial observation we can note the data has the following columns: \n",
    "* account_no (categorical), \n",
    "* gender (categorical), \n",
    "* age (numerical-continuous), \n",
    "* income (numerical-continuous), \n",
    "* term (numerical-continuous), \n",
    "* installment_amount (numerical-continuous), \n",
    "* interest_rate (numerical-continuous), \n",
    "* credit_score_at_application (numerical-continuous), \n",
    "* outstanding_balance(numerical-continuous) and \n",
    "* status (categorical).\n",
    "\n",
    "Using this data we can now determine relationships using visual methods."
   ]
  },
  {
   "cell_type": "markdown",
   "metadata": {},
   "source": [
    "We can analyze the data further by looking at a pairplot between all the variables and having a general idea of their relationship and their histogram by producing a pair-wise plot across all variables."
   ]
  },
  {
   "cell_type": "code",
   "execution_count": null,
   "metadata": {},
   "outputs": [],
   "source": [
    "pairplotCreditDF = sns.pairplot(creditBookDF)\n",
    "plt.show()"
   ]
  },
  {
   "cell_type": "markdown",
   "metadata": {},
   "source": [
    "From the pairplot, we can see some interesting trends, for example (and most notable) that the relationship between credit_score_at_application and interest_rate follows something resembling an **INVERSE SIGMOID** relationship.\n",
    "\n",
    "Also the term variable is bunched together at regular intervals when related to all other variables. This indicates that the term may actually be categorical instead of a continuous number as once thought.\n",
    "\n",
    "Also the distribution of variables can be seen from the self interseciton points. For example age, income, loan_amount and installment_amount seems as it follows a **GAMMA DISTRIBUTION**, while interest rate follows a **NORMAL DISTRIBUTION**.\n",
    "\n",
    "The color palette and indiscrimination between data points makes it a bit hard to actually visualize the data. This can be changed via the following."
   ]
  },
  {
   "cell_type": "code",
   "execution_count": null,
   "metadata": {},
   "outputs": [],
   "source": [
    "pairplotCDFCategory = sns.pairplot(creditBookDF, hue=\"status\")\n",
    "plt.show()\n",
    "\n",
    "# Warning will show if on python 3.6, ignore "
   ]
  },
  {
   "cell_type": "markdown",
   "metadata": {},
   "source": [
    "Various decision boundaries on pairwise variables can be seen and separated from visual inspection, such as credit_score_at_application and interest_rate.\n",
    "\n",
    "\n",
    "To get a better idea of the distributions we can perform **Kernel Density Estimation** on the data and also try to fit linear relationships between the data. This is done as shown below:"
   ]
  },
  {
   "cell_type": "code",
   "execution_count": null,
   "metadata": {},
   "outputs": [],
   "source": [
    "pairplotCDFCatKDE = sns.pairplot(creditBookDF, hue=\"status\", kind = \"reg\",diag_kind=\"kde\")\n",
    "plt.show()\n",
    "\n",
    "# Warning will show if on python 3.6, ignore \n",
    "# This will take some time to run as it is running KDE as well as fitting a linear reg on all variables"
   ]
  },
  {
   "cell_type": "markdown",
   "metadata": {},
   "source": [
    "The relationship between some variables are a bit complex, however we can still model non-linear relationships using other methods.\n",
    "\n",
    "\n",
    "## Modelling Using Probabilistic Methods\n",
    "\n",
    "The data is first split into historical and current data. The categorical data is encoded at this stage to save computation time.\n",
    "\n",
    "The problem requires to find the probability that someone defaults, in this case, we can group \"PAID_UP\" and \"LIVE\" into one category."
   ]
  },
  {
   "cell_type": "code",
   "execution_count": 4,
   "metadata": {},
   "outputs": [
    {
     "name": "stdout",
     "output_type": "stream",
     "text": [
      "Dimensions of Data:\n",
      "Historical DataFrame: (#rows:9997 , #columns: 11)\n",
      "Current DataFrame: (#rows:2001 , #columns: 11)\n"
     ]
    }
   ],
   "source": [
    "creditBookMLDF = creditBookDF.copy()\n",
    "\n",
    "historicalDF = creditBookMLDF[creditBookMLDF['status'] != \"LIVE\"]\n",
    "currentDF = creditBookMLDF[creditBookMLDF['status'] == \"LIVE\"]\n",
    "creditBookMLDF['status'] = creditBookMLDF['status'].replace({'PAID_UP': 'X', 'LIVE': 'X'})\n",
    "\n",
    "print(\"Dimensions of Data:\")\n",
    "print(\"Historical DataFrame: (#rows:\"+str(historicalDF.shape[0])+\" , #columns: \"+str(historicalDF.shape[1])+\")\")\n",
    "print(\"Current DataFrame: (#rows:\"+str(currentDF.shape[0])+\" , #columns: \"+str(currentDF.shape[1])+\")\")"
   ]
  },
  {
   "cell_type": "markdown",
   "metadata": {},
   "source": [
    "From this information, we can determine the following split for the data:\n",
    "* 80% of the Historical Data would be utilized for training\n",
    "* The remaining 20% of the Historical Data would be used as a test set\n",
    "\n",
    "The only categorical data used will be the \"gender\" field and the output status field.\n",
    "\n",
    "Preparing the data:"
   ]
  },
  {
   "cell_type": "code",
   "execution_count": 5,
   "metadata": {},
   "outputs": [
    {
     "name": "stderr",
     "output_type": "stream",
     "text": [
      "/Users/darrenramsook/anaconda/lib/python3.6/site-packages/ipykernel_launcher.py:1: SettingWithCopyWarning: \n",
      "A value is trying to be set on a copy of a slice from a DataFrame.\n",
      "Try using .loc[row_indexer,col_indexer] = value instead\n",
      "\n",
      "See the caveats in the documentation: http://pandas.pydata.org/pandas-docs/stable/indexing.html#indexing-view-versus-copy\n",
      "  \"\"\"Entry point for launching an IPython kernel.\n",
      "/Users/darrenramsook/anaconda/lib/python3.6/site-packages/ipykernel_launcher.py:2: SettingWithCopyWarning: \n",
      "A value is trying to be set on a copy of a slice from a DataFrame.\n",
      "Try using .loc[row_indexer,col_indexer] = value instead\n",
      "\n",
      "See the caveats in the documentation: http://pandas.pydata.org/pandas-docs/stable/indexing.html#indexing-view-versus-copy\n",
      "  \n",
      "/Users/darrenramsook/anaconda/lib/python3.6/site-packages/ipykernel_launcher.py:11: SettingWithCopyWarning: \n",
      "A value is trying to be set on a copy of a slice from a DataFrame.\n",
      "Try using .loc[row_indexer,col_indexer] = value instead\n",
      "\n",
      "See the caveats in the documentation: http://pandas.pydata.org/pandas-docs/stable/indexing.html#indexing-view-versus-copy\n",
      "  # This is added back by InteractiveShellApp.init_path()\n",
      "/Users/darrenramsook/anaconda/lib/python3.6/site-packages/ipykernel_launcher.py:12: SettingWithCopyWarning: \n",
      "A value is trying to be set on a copy of a slice from a DataFrame.\n",
      "Try using .loc[row_indexer,col_indexer] = value instead\n",
      "\n",
      "See the caveats in the documentation: http://pandas.pydata.org/pandas-docs/stable/indexing.html#indexing-view-versus-copy\n",
      "  if sys.path[0] == '':\n"
     ]
    }
   ],
   "source": [
    "historicalDF['status'] = historicalDF['status'].replace({'PAID_UP': 'X', 'LIVE': 'X'})\n",
    "currentDF['status'] = currentDF['status'].replace({'PAID_UP': 'X', 'LIVE': 'X'})\n",
    "\n",
    "# Create and fit Encoders\n",
    "genEncoder = OrdinalEncoder()\n",
    "statusEncoder = OrdinalEncoder()\n",
    "genEncoder = genEncoder.fit(creditBookMLDF.gender.values.reshape(-1,1))\n",
    "statusEncoder = statusEncoder.fit(creditBookMLDF.status.values.reshape(-1,1))\n",
    "\n",
    "# Transform Data\n",
    "historicalDF['status'] = statusEncoder.transform(historicalDF.status.values.reshape(-1,1))\n",
    "historicalDF['gender'] = genEncoder.transform(historicalDF.gender.values.reshape(-1,1))\n",
    "\n",
    "# Splitting encoded data into train test sets now\n",
    "trainDFX = historicalDF.drop(['outstanding_balance','account_no','status'],axis=1)\n",
    "trainDFY = historicalDF['status']\n",
    "X_train, X_test, y_train, y_test = train_test_split(trainDFX,trainDFY,test_size = 0.2,random_state=1)"
   ]
  },
  {
   "cell_type": "markdown",
   "metadata": {},
   "source": [
    "### Using a Probabilistic model to create predicitons\n",
    "\n",
    "Logistic Regression Classifier was trained using the l2 loss results in a probability between 0-1 of the output."
   ]
  },
  {
   "cell_type": "code",
   "execution_count": 71,
   "metadata": {},
   "outputs": [
    {
     "name": "stdout",
     "output_type": "stream",
     "text": [
      "mean accuracy on the given test data and labels: 0.9377266474928098\n",
      "F1 score: 0.957649550026469\n",
      "Overall accuracy: 0.92\n"
     ]
    },
    {
     "name": "stderr",
     "output_type": "stream",
     "text": [
      "/Users/darrenramsook/anaconda/lib/python3.6/site-packages/sklearn/linear_model/logistic.py:758: ConvergenceWarning: lbfgs failed to converge. Increase the number of iterations.\n",
      "  \"of iterations.\", ConvergenceWarning)\n"
     ]
    }
   ],
   "source": [
    "from sklearn.linear_model import LogisticRegression\n",
    "\n",
    "lf = LogisticRegression(penalty ='l2', tol=1e-4,solver='lbfgs').fit(X_train, y_train)\n",
    "y_pred_actual = lf.predict(X_test)\n",
    "y_pred_probability = lf.predict_proba(X_test)\n",
    "\n",
    "print(\"mean accuracy on the given test data and labels: \" + str(lf.score(X_train, y_train)))\n",
    "print(\"F1 score: \" + str(f1_score(y_test, y_pred_actual)))\n",
    "print(\"Overall accuracy: \" + str(accuracy_score(y_test, y_pred_actual)))"
   ]
  },
  {
   "cell_type": "markdown",
   "metadata": {},
   "source": [
    "### Forecasting for remainder of data\n",
    "\n"
   ]
  },
  {
   "cell_type": "code",
   "execution_count": 100,
   "metadata": {},
   "outputs": [
    {
     "ename": "ValueError",
     "evalue": "could not convert string to float: 'X'",
     "output_type": "error",
     "traceback": [
      "\u001b[0;31m---------------------------------------------------------------------------\u001b[0m",
      "\u001b[0;31mValueError\u001b[0m                                Traceback (most recent call last)",
      "\u001b[0;32m<ipython-input-100-975febe18b39>\u001b[0m in \u001b[0;36m<module>\u001b[0;34m()\u001b[0m\n\u001b[1;32m      1\u001b[0m \u001b[0mlfInputs\u001b[0m \u001b[0;34m=\u001b[0m \u001b[0mcurrentDF\u001b[0m\u001b[0;34m.\u001b[0m\u001b[0mdrop\u001b[0m\u001b[0;34m(\u001b[0m\u001b[0;34m[\u001b[0m\u001b[0;34m'outstanding_balance'\u001b[0m\u001b[0;34m,\u001b[0m\u001b[0;34m'account_no'\u001b[0m\u001b[0;34m]\u001b[0m\u001b[0;34m,\u001b[0m\u001b[0maxis\u001b[0m\u001b[0;34m=\u001b[0m\u001b[0;36m1\u001b[0m\u001b[0;34m)\u001b[0m\u001b[0;34m\u001b[0m\u001b[0;34m\u001b[0m\u001b[0m\n\u001b[1;32m      2\u001b[0m \u001b[0mlfInputs\u001b[0m\u001b[0;34m[\u001b[0m\u001b[0;34m'gender'\u001b[0m\u001b[0;34m]\u001b[0m \u001b[0;34m=\u001b[0m \u001b[0mgenEncoder\u001b[0m\u001b[0;34m.\u001b[0m\u001b[0mtransform\u001b[0m\u001b[0;34m(\u001b[0m\u001b[0mlfInputs\u001b[0m\u001b[0;34m.\u001b[0m\u001b[0mgender\u001b[0m\u001b[0;34m.\u001b[0m\u001b[0mvalues\u001b[0m\u001b[0;34m.\u001b[0m\u001b[0mreshape\u001b[0m\u001b[0;34m(\u001b[0m\u001b[0;34m-\u001b[0m\u001b[0;36m1\u001b[0m\u001b[0;34m,\u001b[0m\u001b[0;36m1\u001b[0m\u001b[0;34m)\u001b[0m\u001b[0;34m)\u001b[0m\u001b[0;34m\u001b[0m\u001b[0;34m\u001b[0m\u001b[0m\n\u001b[0;32m----> 3\u001b[0;31m \u001b[0mcurrentDF\u001b[0m\u001b[0;34m[\u001b[0m\u001b[0;34m'DefaultProb'\u001b[0m\u001b[0;34m]\u001b[0m \u001b[0;34m=\u001b[0m \u001b[0mlf\u001b[0m\u001b[0;34m.\u001b[0m\u001b[0mpredict_proba\u001b[0m\u001b[0;34m(\u001b[0m\u001b[0mlfInputs\u001b[0m\u001b[0;34m)\u001b[0m\u001b[0;34m\u001b[0m\u001b[0;34m\u001b[0m\u001b[0m\n\u001b[0m",
      "\u001b[0;32m~/anaconda/lib/python3.6/site-packages/sklearn/linear_model/logistic.py\u001b[0m in \u001b[0;36mpredict_proba\u001b[0;34m(self, X)\u001b[0m\n\u001b[1;32m   1409\u001b[0m                                                 self.solver == 'liblinear')))\n\u001b[1;32m   1410\u001b[0m         \u001b[0;32mif\u001b[0m \u001b[0movr\u001b[0m\u001b[0;34m:\u001b[0m\u001b[0;34m\u001b[0m\u001b[0;34m\u001b[0m\u001b[0m\n\u001b[0;32m-> 1411\u001b[0;31m             \u001b[0;32mreturn\u001b[0m \u001b[0msuper\u001b[0m\u001b[0;34m(\u001b[0m\u001b[0mLogisticRegression\u001b[0m\u001b[0;34m,\u001b[0m \u001b[0mself\u001b[0m\u001b[0;34m)\u001b[0m\u001b[0;34m.\u001b[0m\u001b[0m_predict_proba_lr\u001b[0m\u001b[0;34m(\u001b[0m\u001b[0mX\u001b[0m\u001b[0;34m)\u001b[0m\u001b[0;34m\u001b[0m\u001b[0;34m\u001b[0m\u001b[0m\n\u001b[0m\u001b[1;32m   1412\u001b[0m         \u001b[0;32melse\u001b[0m\u001b[0;34m:\u001b[0m\u001b[0;34m\u001b[0m\u001b[0;34m\u001b[0m\u001b[0m\n\u001b[1;32m   1413\u001b[0m             \u001b[0mdecision\u001b[0m \u001b[0;34m=\u001b[0m \u001b[0mself\u001b[0m\u001b[0;34m.\u001b[0m\u001b[0mdecision_function\u001b[0m\u001b[0;34m(\u001b[0m\u001b[0mX\u001b[0m\u001b[0;34m)\u001b[0m\u001b[0;34m\u001b[0m\u001b[0;34m\u001b[0m\u001b[0m\n",
      "\u001b[0;32m~/anaconda/lib/python3.6/site-packages/sklearn/linear_model/base.py\u001b[0m in \u001b[0;36m_predict_proba_lr\u001b[0;34m(self, X)\u001b[0m\n\u001b[1;32m    293\u001b[0m         \u001b[0mmulticlass\u001b[0m \u001b[0;32mis\u001b[0m \u001b[0mhandled\u001b[0m \u001b[0mby\u001b[0m \u001b[0mnormalizing\u001b[0m \u001b[0mthat\u001b[0m \u001b[0mover\u001b[0m \u001b[0mall\u001b[0m \u001b[0mclasses\u001b[0m\u001b[0;34m.\u001b[0m\u001b[0;34m\u001b[0m\u001b[0;34m\u001b[0m\u001b[0m\n\u001b[1;32m    294\u001b[0m         \"\"\"\n\u001b[0;32m--> 295\u001b[0;31m         \u001b[0mprob\u001b[0m \u001b[0;34m=\u001b[0m \u001b[0mself\u001b[0m\u001b[0;34m.\u001b[0m\u001b[0mdecision_function\u001b[0m\u001b[0;34m(\u001b[0m\u001b[0mX\u001b[0m\u001b[0;34m)\u001b[0m\u001b[0;34m\u001b[0m\u001b[0;34m\u001b[0m\u001b[0m\n\u001b[0m\u001b[1;32m    296\u001b[0m         \u001b[0mprob\u001b[0m \u001b[0;34m*=\u001b[0m \u001b[0;34m-\u001b[0m\u001b[0;36m1\u001b[0m\u001b[0;34m\u001b[0m\u001b[0;34m\u001b[0m\u001b[0m\n\u001b[1;32m    297\u001b[0m         \u001b[0mnp\u001b[0m\u001b[0;34m.\u001b[0m\u001b[0mexp\u001b[0m\u001b[0;34m(\u001b[0m\u001b[0mprob\u001b[0m\u001b[0;34m,\u001b[0m \u001b[0mprob\u001b[0m\u001b[0;34m)\u001b[0m\u001b[0;34m\u001b[0m\u001b[0;34m\u001b[0m\u001b[0m\n",
      "\u001b[0;32m~/anaconda/lib/python3.6/site-packages/sklearn/linear_model/base.py\u001b[0m in \u001b[0;36mdecision_function\u001b[0;34m(self, X)\u001b[0m\n\u001b[1;32m    255\u001b[0m                                  \"yet\" % {'name': type(self).__name__})\n\u001b[1;32m    256\u001b[0m \u001b[0;34m\u001b[0m\u001b[0m\n\u001b[0;32m--> 257\u001b[0;31m         \u001b[0mX\u001b[0m \u001b[0;34m=\u001b[0m \u001b[0mcheck_array\u001b[0m\u001b[0;34m(\u001b[0m\u001b[0mX\u001b[0m\u001b[0;34m,\u001b[0m \u001b[0maccept_sparse\u001b[0m\u001b[0;34m=\u001b[0m\u001b[0;34m'csr'\u001b[0m\u001b[0;34m)\u001b[0m\u001b[0;34m\u001b[0m\u001b[0;34m\u001b[0m\u001b[0m\n\u001b[0m\u001b[1;32m    258\u001b[0m \u001b[0;34m\u001b[0m\u001b[0m\n\u001b[1;32m    259\u001b[0m         \u001b[0mn_features\u001b[0m \u001b[0;34m=\u001b[0m \u001b[0mself\u001b[0m\u001b[0;34m.\u001b[0m\u001b[0mcoef_\u001b[0m\u001b[0;34m.\u001b[0m\u001b[0mshape\u001b[0m\u001b[0;34m[\u001b[0m\u001b[0;36m1\u001b[0m\u001b[0;34m]\u001b[0m\u001b[0;34m\u001b[0m\u001b[0;34m\u001b[0m\u001b[0m\n",
      "\u001b[0;32m~/anaconda/lib/python3.6/site-packages/sklearn/utils/validation.py\u001b[0m in \u001b[0;36mcheck_array\u001b[0;34m(array, accept_sparse, accept_large_sparse, dtype, order, copy, force_all_finite, ensure_2d, allow_nd, ensure_min_samples, ensure_min_features, warn_on_dtype, estimator)\u001b[0m\n\u001b[1;32m    565\u001b[0m         \u001b[0;31m# make sure we actually converted to numeric:\u001b[0m\u001b[0;34m\u001b[0m\u001b[0;34m\u001b[0m\u001b[0;34m\u001b[0m\u001b[0m\n\u001b[1;32m    566\u001b[0m         \u001b[0;32mif\u001b[0m \u001b[0mdtype_numeric\u001b[0m \u001b[0;32mand\u001b[0m \u001b[0marray\u001b[0m\u001b[0;34m.\u001b[0m\u001b[0mdtype\u001b[0m\u001b[0;34m.\u001b[0m\u001b[0mkind\u001b[0m \u001b[0;34m==\u001b[0m \u001b[0;34m\"O\"\u001b[0m\u001b[0;34m:\u001b[0m\u001b[0;34m\u001b[0m\u001b[0;34m\u001b[0m\u001b[0m\n\u001b[0;32m--> 567\u001b[0;31m             \u001b[0marray\u001b[0m \u001b[0;34m=\u001b[0m \u001b[0marray\u001b[0m\u001b[0;34m.\u001b[0m\u001b[0mastype\u001b[0m\u001b[0;34m(\u001b[0m\u001b[0mnp\u001b[0m\u001b[0;34m.\u001b[0m\u001b[0mfloat64\u001b[0m\u001b[0;34m)\u001b[0m\u001b[0;34m\u001b[0m\u001b[0;34m\u001b[0m\u001b[0m\n\u001b[0m\u001b[1;32m    568\u001b[0m         \u001b[0;32mif\u001b[0m \u001b[0;32mnot\u001b[0m \u001b[0mallow_nd\u001b[0m \u001b[0;32mand\u001b[0m \u001b[0marray\u001b[0m\u001b[0;34m.\u001b[0m\u001b[0mndim\u001b[0m \u001b[0;34m>=\u001b[0m \u001b[0;36m3\u001b[0m\u001b[0;34m:\u001b[0m\u001b[0;34m\u001b[0m\u001b[0;34m\u001b[0m\u001b[0m\n\u001b[1;32m    569\u001b[0m             raise ValueError(\"Found array with dim %d. %s expected <= 2.\"\n",
      "\u001b[0;31mValueError\u001b[0m: could not convert string to float: 'X'"
     ]
    }
   ],
   "source": [
    "lfInputs = currentDF.drop(['outstanding_balance','account_no'],axis=1)\n",
    "lfInputs['gender'] = genEncoder.transform(lfInputs.gender.values.reshape(-1,1))\n",
    "currentDF['DefaultProb'] = lf.predict_proba(lfInputs)"
   ]
  },
  {
   "cell_type": "code",
   "execution_count": null,
   "metadata": {
    "collapsed": true
   },
   "outputs": [],
   "source": []
  }
 ],
 "metadata": {
  "kernelspec": {
   "display_name": "Python 3",
   "language": "python",
   "name": "python3"
  },
  "language_info": {
   "codemirror_mode": {
    "name": "ipython",
    "version": 3
   },
   "file_extension": ".py",
   "mimetype": "text/x-python",
   "name": "python",
   "nbconvert_exporter": "python",
   "pygments_lexer": "ipython3",
   "version": "3.6.8"
  }
 },
 "nbformat": 4,
 "nbformat_minor": 2
}
